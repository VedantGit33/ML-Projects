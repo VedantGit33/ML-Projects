{
 "cells": [
  {
   "cell_type": "markdown",
   "id": "47670388",
   "metadata": {
    "id": "47670388"
   },
   "source": [
    "## Clustering\n",
    "\n",
    "Given different objects and asked to put in groups, a child may group these objects over the colour, shape, hardness etc. These are variables of the objects which separate them.\n",
    "As a natural process of segmentation, we look for similarities and dissimilarities within objects. This is called **clustering**, the method of identifying similar instances and keeping them together.\n",
    "\n",
    "In other words, clustering identifies homogeneous subgroups among the observations.\n",
    "As an unsupervised learning approach, clustering finds a structure/pattern in a collection of unlabeled data. Algorithms are capable of discovering hidden patterns which are often useful in areas such as Cybersecurity."
   ]
  },
  {
   "cell_type": "markdown",
   "id": "72b46468",
   "metadata": {
    "id": "72b46468"
   },
   "source": [
    "# KMeans Clustering\n",
    "\n",
    "It is an unsupervised technique used to identify clusters of data objects in the dataset. K specifies the number of clusters.\n",
    "\n",
    "Steps involved in K-Means Algorithm:\n",
    "\n",
    "1. Initially choose the number of clusters as K.\n",
    "\n",
    "2. Start with K centroids by putting them at random place (not necessarily from your dataset). **A centroid is a data point (imaginary or real) at the center of a cluster.**\n",
    "\n",
    "3. Assign each point to the closest centroid. This forms k clusters.\n",
    "\n",
    "4. Within each cluster, compute distance of every point from the centroid. Compute and place the new centroid for each cluster ie., calculate the mean value of points for each cluster and update the cluster centers.\n",
    "\n",
    "5. You have k new centroids. Repeat the process again ie., reassign each data point to the new closest centroid. If any reassignment took place, go to step 4. But if there is no change ie., when clusters form a clear boundary, you have the final clusters for the given data.\n"
   ]
  },
  {
   "cell_type": "markdown",
   "id": "92257a83",
   "metadata": {
    "id": "92257a83"
   },
   "source": [
    "### Use Case for Clustering: Group countries with similar construction permit trends, which can help understand regional or economic similarities.\n",
    "**Index measuring the regulatory performance of obtaining Construction Permits**"
   ]
  },
  {
   "cell_type": "code",
   "execution_count": 2,
   "id": "166b3181-b3c1-4268-a7c9-0c5605098f01",
   "metadata": {
    "id": "166b3181-b3c1-4268-a7c9-0c5605098f01"
   },
   "outputs": [],
   "source": [
    "import numpy as np\n",
    "import pandas as pd\n",
    "import seaborn as sns\n",
    "import matplotlib.pyplot as plt"
   ]
  },
  {
   "cell_type": "code",
   "execution_count": 3,
   "id": "2fbe4d97-7200-4512-a782-85994114fc2d",
   "metadata": {
    "id": "2fbe4d97-7200-4512-a782-85994114fc2d"
   },
   "outputs": [],
   "source": [
    "df=pd.read_csv(\"main_data.csv\")"
   ]
  },
  {
   "cell_type": "code",
   "execution_count": 4,
   "id": "42201f41",
   "metadata": {
    "id": "42201f41",
    "scrolled": true
   },
   "outputs": [
    {
     "name": "stdout",
     "output_type": "stream",
     "text": [
      "<class 'pandas.core.frame.DataFrame'>\n",
      "RangeIndex: 191 entries, 0 to 190\n",
      "Data columns (total 5 columns):\n",
      " #   Column                                     Non-Null Count  Dtype  \n",
      "---  ------                                     --------------  -----  \n",
      " 0   Unnamed: 0                                 191 non-null    int64  \n",
      " 1   country                                    191 non-null    object \n",
      " 2   fy2017, Dealing with construction permits  191 non-null    float64\n",
      " 3   fy2019, Dealing with construction permits  191 non-null    float64\n",
      " 4   fy2018, Dealing with construction permits  191 non-null    float64\n",
      "dtypes: float64(3), int64(1), object(1)\n",
      "memory usage: 7.6+ KB\n"
     ]
    }
   ],
   "source": [
    "df.info()"
   ]
  },
  {
   "cell_type": "code",
   "execution_count": 5,
   "id": "c43044d3",
   "metadata": {},
   "outputs": [],
   "source": [
    "df.rename(columns={'fy2017, Dealing with construction permits':'fy2017','fy2019, Dealing with construction permits':'fy2018','fy2018, Dealing with construction permits':'fy2019'},inplace=True)"
   ]
  },
  {
   "cell_type": "code",
   "execution_count": 6,
   "id": "a10009a2-7930-4518-b441-61bdabfb6425",
   "metadata": {
    "id": "a10009a2-7930-4518-b441-61bdabfb6425"
   },
   "outputs": [
    {
     "data": {
      "text/html": [
       "<div>\n",
       "<style scoped>\n",
       "    .dataframe tbody tr th:only-of-type {\n",
       "        vertical-align: middle;\n",
       "    }\n",
       "\n",
       "    .dataframe tbody tr th {\n",
       "        vertical-align: top;\n",
       "    }\n",
       "\n",
       "    .dataframe thead th {\n",
       "        text-align: right;\n",
       "    }\n",
       "</style>\n",
       "<table border=\"1\" class=\"dataframe\">\n",
       "  <thead>\n",
       "    <tr style=\"text-align: right;\">\n",
       "      <th></th>\n",
       "      <th>Unnamed: 0</th>\n",
       "      <th>country</th>\n",
       "      <th>fy2017</th>\n",
       "      <th>fy2018</th>\n",
       "      <th>fy2019</th>\n",
       "    </tr>\n",
       "  </thead>\n",
       "  <tbody>\n",
       "    <tr>\n",
       "      <th>0</th>\n",
       "      <td>0</td>\n",
       "      <td>AFG</td>\n",
       "      <td>33.70269</td>\n",
       "      <td>34.53602</td>\n",
       "      <td>34.53602</td>\n",
       "    </tr>\n",
       "    <tr>\n",
       "      <th>1</th>\n",
       "      <td>1</td>\n",
       "      <td>AGO</td>\n",
       "      <td>64.57157</td>\n",
       "      <td>65.32993</td>\n",
       "      <td>64.99177</td>\n",
       "    </tr>\n",
       "    <tr>\n",
       "      <th>2</th>\n",
       "      <td>2</td>\n",
       "      <td>ALB</td>\n",
       "      <td>52.60171</td>\n",
       "      <td>52.67715</td>\n",
       "      <td>52.64734</td>\n",
       "    </tr>\n",
       "    <tr>\n",
       "      <th>3</th>\n",
       "      <td>3</td>\n",
       "      <td>ARE</td>\n",
       "      <td>86.51006</td>\n",
       "      <td>89.75407</td>\n",
       "      <td>86.52729</td>\n",
       "    </tr>\n",
       "    <tr>\n",
       "      <th>4</th>\n",
       "      <td>4</td>\n",
       "      <td>ARG</td>\n",
       "      <td>48.96341</td>\n",
       "      <td>56.44015</td>\n",
       "      <td>49.26822</td>\n",
       "    </tr>\n",
       "    <tr>\n",
       "      <th>...</th>\n",
       "      <td>...</td>\n",
       "      <td>...</td>\n",
       "      <td>...</td>\n",
       "      <td>...</td>\n",
       "      <td>...</td>\n",
       "    </tr>\n",
       "    <tr>\n",
       "      <th>186</th>\n",
       "      <td>186</td>\n",
       "      <td>XKX</td>\n",
       "      <td>50.29844</td>\n",
       "      <td>55.28702</td>\n",
       "      <td>52.87432</td>\n",
       "    </tr>\n",
       "    <tr>\n",
       "      <th>187</th>\n",
       "      <td>187</td>\n",
       "      <td>YEM</td>\n",
       "      <td>0.00000</td>\n",
       "      <td>0.00000</td>\n",
       "      <td>0.00000</td>\n",
       "    </tr>\n",
       "    <tr>\n",
       "      <th>188</th>\n",
       "      <td>188</td>\n",
       "      <td>ZAF</td>\n",
       "      <td>68.26741</td>\n",
       "      <td>68.32331</td>\n",
       "      <td>68.24925</td>\n",
       "    </tr>\n",
       "    <tr>\n",
       "      <th>189</th>\n",
       "      <td>189</td>\n",
       "      <td>ZMB</td>\n",
       "      <td>71.10859</td>\n",
       "      <td>72.09460</td>\n",
       "      <td>71.72488</td>\n",
       "    </tr>\n",
       "    <tr>\n",
       "      <th>190</th>\n",
       "      <td>190</td>\n",
       "      <td>ZWE</td>\n",
       "      <td>46.39289</td>\n",
       "      <td>60.00173</td>\n",
       "      <td>48.55427</td>\n",
       "    </tr>\n",
       "  </tbody>\n",
       "</table>\n",
       "<p>191 rows × 5 columns</p>\n",
       "</div>"
      ],
      "text/plain": [
       "     Unnamed: 0 country    fy2017    fy2018    fy2019\n",
       "0             0     AFG  33.70269  34.53602  34.53602\n",
       "1             1     AGO  64.57157  65.32993  64.99177\n",
       "2             2     ALB  52.60171  52.67715  52.64734\n",
       "3             3     ARE  86.51006  89.75407  86.52729\n",
       "4             4     ARG  48.96341  56.44015  49.26822\n",
       "..          ...     ...       ...       ...       ...\n",
       "186         186     XKX  50.29844  55.28702  52.87432\n",
       "187         187     YEM   0.00000   0.00000   0.00000\n",
       "188         188     ZAF  68.26741  68.32331  68.24925\n",
       "189         189     ZMB  71.10859  72.09460  71.72488\n",
       "190         190     ZWE  46.39289  60.00173  48.55427\n",
       "\n",
       "[191 rows x 5 columns]"
      ]
     },
     "execution_count": 6,
     "metadata": {},
     "output_type": "execute_result"
    }
   ],
   "source": [
    "df"
   ]
  },
  {
   "cell_type": "markdown",
   "id": "6d593a4f",
   "metadata": {},
   "source": [
    "### Domain Analysis\n",
    "\n",
    "1. Country :- These are country names where the respective construction permits are happening in different years.\n",
    "\n",
    "2. fy2017, Dealing with construction permits :- Construction permits in Financial year 2017\n",
    "\n",
    "3. fy2018, Dealing with construction permits :- Construction permits in Financial year 2018\n",
    "\n",
    "4. fy2019, Dealing with construction permits :- Construction permits in Financial year 2019"
   ]
  },
  {
   "cell_type": "markdown",
   "id": "dfd3d40d",
   "metadata": {},
   "source": [
    "### Basic Checks"
   ]
  },
  {
   "cell_type": "code",
   "execution_count": 7,
   "id": "e99a3479",
   "metadata": {},
   "outputs": [
    {
     "data": {
      "text/plain": [
       "Unnamed: 0    0\n",
       "country       0\n",
       "fy2017        0\n",
       "fy2018        0\n",
       "fy2019        0\n",
       "dtype: int64"
      ]
     },
     "execution_count": 7,
     "metadata": {},
     "output_type": "execute_result"
    }
   ],
   "source": [
    "df.isnull().sum()"
   ]
  },
  {
   "cell_type": "code",
   "execution_count": 8,
   "id": "7233e684",
   "metadata": {},
   "outputs": [
    {
     "data": {
      "text/plain": [
       "0"
      ]
     },
     "execution_count": 8,
     "metadata": {},
     "output_type": "execute_result"
    }
   ],
   "source": [
    "df.duplicated().sum()"
   ]
  },
  {
   "cell_type": "code",
   "execution_count": 9,
   "id": "8b9ea4b2",
   "metadata": {},
   "outputs": [
    {
     "data": {
      "text/plain": [
       "Index(['Unnamed: 0', 'country', 'fy2017', 'fy2018', 'fy2019'], dtype='object')"
      ]
     },
     "execution_count": 9,
     "metadata": {},
     "output_type": "execute_result"
    }
   ],
   "source": [
    "df.columns"
   ]
  },
  {
   "cell_type": "code",
   "execution_count": 10,
   "id": "750f74e2",
   "metadata": {},
   "outputs": [
    {
     "name": "stdout",
     "output_type": "stream",
     "text": [
      "<class 'pandas.core.frame.DataFrame'>\n",
      "RangeIndex: 191 entries, 0 to 190\n",
      "Data columns (total 5 columns):\n",
      " #   Column      Non-Null Count  Dtype  \n",
      "---  ------      --------------  -----  \n",
      " 0   Unnamed: 0  191 non-null    int64  \n",
      " 1   country     191 non-null    object \n",
      " 2   fy2017      191 non-null    float64\n",
      " 3   fy2018      191 non-null    float64\n",
      " 4   fy2019      191 non-null    float64\n",
      "dtypes: float64(3), int64(1), object(1)\n",
      "memory usage: 7.6+ KB\n"
     ]
    }
   ],
   "source": [
    "df.info()"
   ]
  },
  {
   "cell_type": "code",
   "execution_count": 11,
   "id": "185392ab",
   "metadata": {
    "scrolled": true
   },
   "outputs": [
    {
     "data": {
      "text/html": [
       "<div>\n",
       "<style scoped>\n",
       "    .dataframe tbody tr th:only-of-type {\n",
       "        vertical-align: middle;\n",
       "    }\n",
       "\n",
       "    .dataframe tbody tr th {\n",
       "        vertical-align: top;\n",
       "    }\n",
       "\n",
       "    .dataframe thead th {\n",
       "        text-align: right;\n",
       "    }\n",
       "</style>\n",
       "<table border=\"1\" class=\"dataframe\">\n",
       "  <thead>\n",
       "    <tr style=\"text-align: right;\">\n",
       "      <th></th>\n",
       "      <th>count</th>\n",
       "      <th>mean</th>\n",
       "      <th>std</th>\n",
       "      <th>min</th>\n",
       "      <th>25%</th>\n",
       "      <th>50%</th>\n",
       "      <th>75%</th>\n",
       "      <th>max</th>\n",
       "    </tr>\n",
       "  </thead>\n",
       "  <tbody>\n",
       "    <tr>\n",
       "      <th>Unnamed: 0</th>\n",
       "      <td>191.0</td>\n",
       "      <td>95.000000</td>\n",
       "      <td>55.281100</td>\n",
       "      <td>0.0</td>\n",
       "      <td>47.500000</td>\n",
       "      <td>95.00000</td>\n",
       "      <td>142.500000</td>\n",
       "      <td>190.00000</td>\n",
       "    </tr>\n",
       "    <tr>\n",
       "      <th>fy2017</th>\n",
       "      <td>191.0</td>\n",
       "      <td>63.269214</td>\n",
       "      <td>16.622900</td>\n",
       "      <td>0.0</td>\n",
       "      <td>56.300935</td>\n",
       "      <td>66.69420</td>\n",
       "      <td>73.407800</td>\n",
       "      <td>91.21002</td>\n",
       "    </tr>\n",
       "    <tr>\n",
       "      <th>fy2018</th>\n",
       "      <td>191.0</td>\n",
       "      <td>65.845667</td>\n",
       "      <td>15.815424</td>\n",
       "      <td>0.0</td>\n",
       "      <td>59.640150</td>\n",
       "      <td>68.68324</td>\n",
       "      <td>75.182955</td>\n",
       "      <td>93.46702</td>\n",
       "    </tr>\n",
       "    <tr>\n",
       "      <th>fy2019</th>\n",
       "      <td>191.0</td>\n",
       "      <td>64.770344</td>\n",
       "      <td>15.707923</td>\n",
       "      <td>0.0</td>\n",
       "      <td>57.710025</td>\n",
       "      <td>67.94367</td>\n",
       "      <td>73.913715</td>\n",
       "      <td>91.24105</td>\n",
       "    </tr>\n",
       "  </tbody>\n",
       "</table>\n",
       "</div>"
      ],
      "text/plain": [
       "            count       mean        std  min        25%       50%         75%  \\\n",
       "Unnamed: 0  191.0  95.000000  55.281100  0.0  47.500000  95.00000  142.500000   \n",
       "fy2017      191.0  63.269214  16.622900  0.0  56.300935  66.69420   73.407800   \n",
       "fy2018      191.0  65.845667  15.815424  0.0  59.640150  68.68324   75.182955   \n",
       "fy2019      191.0  64.770344  15.707923  0.0  57.710025  67.94367   73.913715   \n",
       "\n",
       "                  max  \n",
       "Unnamed: 0  190.00000  \n",
       "fy2017       91.21002  \n",
       "fy2018       93.46702  \n",
       "fy2019       91.24105  "
      ]
     },
     "execution_count": 11,
     "metadata": {},
     "output_type": "execute_result"
    }
   ],
   "source": [
    "df.describe().T"
   ]
  },
  {
   "cell_type": "markdown",
   "id": "8bc9f065",
   "metadata": {
    "id": "e38cbfd1-be5f-49b1-bc91-ab4dcb4a4fe1"
   },
   "source": [
    "df.head()"
   ]
  },
  {
   "cell_type": "code",
   "execution_count": 12,
   "id": "7fa5ed2b",
   "metadata": {},
   "outputs": [
    {
     "data": {
      "text/html": [
       "<div>\n",
       "<style scoped>\n",
       "    .dataframe tbody tr th:only-of-type {\n",
       "        vertical-align: middle;\n",
       "    }\n",
       "\n",
       "    .dataframe tbody tr th {\n",
       "        vertical-align: top;\n",
       "    }\n",
       "\n",
       "    .dataframe thead th {\n",
       "        text-align: right;\n",
       "    }\n",
       "</style>\n",
       "<table border=\"1\" class=\"dataframe\">\n",
       "  <thead>\n",
       "    <tr style=\"text-align: right;\">\n",
       "      <th></th>\n",
       "      <th>Unnamed: 0</th>\n",
       "      <th>country</th>\n",
       "      <th>fy2017</th>\n",
       "      <th>fy2018</th>\n",
       "      <th>fy2019</th>\n",
       "    </tr>\n",
       "  </thead>\n",
       "  <tbody>\n",
       "    <tr>\n",
       "      <th>0</th>\n",
       "      <td>0</td>\n",
       "      <td>AFG</td>\n",
       "      <td>33.70269</td>\n",
       "      <td>34.53602</td>\n",
       "      <td>34.53602</td>\n",
       "    </tr>\n",
       "    <tr>\n",
       "      <th>1</th>\n",
       "      <td>1</td>\n",
       "      <td>AGO</td>\n",
       "      <td>64.57157</td>\n",
       "      <td>65.32993</td>\n",
       "      <td>64.99177</td>\n",
       "    </tr>\n",
       "    <tr>\n",
       "      <th>2</th>\n",
       "      <td>2</td>\n",
       "      <td>ALB</td>\n",
       "      <td>52.60171</td>\n",
       "      <td>52.67715</td>\n",
       "      <td>52.64734</td>\n",
       "    </tr>\n",
       "    <tr>\n",
       "      <th>3</th>\n",
       "      <td>3</td>\n",
       "      <td>ARE</td>\n",
       "      <td>86.51006</td>\n",
       "      <td>89.75407</td>\n",
       "      <td>86.52729</td>\n",
       "    </tr>\n",
       "    <tr>\n",
       "      <th>4</th>\n",
       "      <td>4</td>\n",
       "      <td>ARG</td>\n",
       "      <td>48.96341</td>\n",
       "      <td>56.44015</td>\n",
       "      <td>49.26822</td>\n",
       "    </tr>\n",
       "  </tbody>\n",
       "</table>\n",
       "</div>"
      ],
      "text/plain": [
       "   Unnamed: 0 country    fy2017    fy2018    fy2019\n",
       "0           0     AFG  33.70269  34.53602  34.53602\n",
       "1           1     AGO  64.57157  65.32993  64.99177\n",
       "2           2     ALB  52.60171  52.67715  52.64734\n",
       "3           3     ARE  86.51006  89.75407  86.52729\n",
       "4           4     ARG  48.96341  56.44015  49.26822"
      ]
     },
     "execution_count": 12,
     "metadata": {},
     "output_type": "execute_result"
    }
   ],
   "source": [
    "df.head()"
   ]
  },
  {
   "cell_type": "markdown",
   "id": "86db8471",
   "metadata": {},
   "source": [
    "### EDA"
   ]
  },
  {
   "cell_type": "code",
   "execution_count": 13,
   "id": "d2d9aff9-0e3f-4bbf-a4f0-230b16925916",
   "metadata": {
    "id": "d2d9aff9-0e3f-4bbf-a4f0-230b16925916",
    "scrolled": false
   },
   "outputs": [
    {
     "data": {
      "image/png": "[encoded data removed]",
      "text/plain": [
       "<Figure size 2000x2500 with 3 Axes>"
      ]
     },
     "metadata": {},
     "output_type": "display_data"
    }
   ],
   "source": [
    "# Univariate Analysis\n",
    "figure=plt.figure(figsize=(20,25))\n",
    "for i in range(1,4):\n",
    "    plt.subplot(3,1,i)\n",
    "    sns.histplot(df.iloc[:,i],kde=True)"
   ]
  },
  {
   "cell_type": "markdown",
   "id": "6d6a84b1",
   "metadata": {},
   "source": [
    "### Handling Outliers."
   ]
  },
  {
   "cell_type": "code",
   "execution_count": 14,
   "id": "4b051058",
   "metadata": {},
   "outputs": [
    {
     "name": "stdout",
     "output_type": "stream",
     "text": [
      "56.300934999999996\n",
      "73.40780000000001\n"
     ]
    }
   ],
   "source": [
    "# First column\n",
    "q1 = df['fy2017'].quantile(0.25)\n",
    "q3 = df['fy2017'].quantile(0.75)\n",
    "print(q1)\n",
    "print(q3)"
   ]
  },
  {
   "cell_type": "code",
   "execution_count": 15,
   "id": "84c844fa",
   "metadata": {},
   "outputs": [
    {
     "name": "stdout",
     "output_type": "stream",
     "text": [
      "17.106865000000013\n"
     ]
    }
   ],
   "source": [
    "IQR = q3-q1\n",
    "print(IQR)"
   ]
  },
  {
   "cell_type": "code",
   "execution_count": 16,
   "id": "defbfc92",
   "metadata": {},
   "outputs": [
    {
     "name": "stdout",
     "output_type": "stream",
     "text": [
      "30.640637499999976\n"
     ]
    }
   ],
   "source": [
    "min_=q1-1.5*IQR\n",
    "print(min_)"
   ]
  },
  {
   "cell_type": "code",
   "execution_count": 17,
   "id": "0c309ccf",
   "metadata": {},
   "outputs": [
    {
     "name": "stdout",
     "output_type": "stream",
     "text": [
      "99.06809750000002\n"
     ]
    }
   ],
   "source": [
    "max_ = q3+1.5*IQR\n",
    "print(max_)"
   ]
  },
  {
   "cell_type": "code",
   "execution_count": 18,
   "id": "2919f1f5",
   "metadata": {},
   "outputs": [
    {
     "data": {
      "text/html": [
       "<div>\n",
       "<style scoped>\n",
       "    .dataframe tbody tr th:only-of-type {\n",
       "        vertical-align: middle;\n",
       "    }\n",
       "\n",
       "    .dataframe tbody tr th {\n",
       "        vertical-align: top;\n",
       "    }\n",
       "\n",
       "    .dataframe thead th {\n",
       "        text-align: right;\n",
       "    }\n",
       "</style>\n",
       "<table border=\"1\" class=\"dataframe\">\n",
       "  <thead>\n",
       "    <tr style=\"text-align: right;\">\n",
       "      <th></th>\n",
       "      <th>Unnamed: 0</th>\n",
       "      <th>country</th>\n",
       "      <th>fy2017</th>\n",
       "      <th>fy2018</th>\n",
       "      <th>fy2019</th>\n",
       "    </tr>\n",
       "  </thead>\n",
       "  <tbody>\n",
       "  </tbody>\n",
       "</table>\n",
       "</div>"
      ],
      "text/plain": [
       "Empty DataFrame\n",
       "Columns: [Unnamed: 0, country, fy2017, fy2018, fy2019]\n",
       "Index: []"
      ]
     },
     "execution_count": 18,
     "metadata": {},
     "output_type": "execute_result"
    }
   ],
   "source": [
    "df.loc[df['fy2017']>max_]"
   ]
  },
  {
   "cell_type": "code",
   "execution_count": 19,
   "id": "c0e532c0",
   "metadata": {
    "scrolled": true
   },
   "outputs": [
    {
     "data": {
      "text/html": [
       "<div>\n",
       "<style scoped>\n",
       "    .dataframe tbody tr th:only-of-type {\n",
       "        vertical-align: middle;\n",
       "    }\n",
       "\n",
       "    .dataframe tbody tr th {\n",
       "        vertical-align: top;\n",
       "    }\n",
       "\n",
       "    .dataframe thead th {\n",
       "        text-align: right;\n",
       "    }\n",
       "</style>\n",
       "<table border=\"1\" class=\"dataframe\">\n",
       "  <thead>\n",
       "    <tr style=\"text-align: right;\">\n",
       "      <th></th>\n",
       "      <th>Unnamed: 0</th>\n",
       "      <th>country</th>\n",
       "      <th>fy2017</th>\n",
       "      <th>fy2018</th>\n",
       "      <th>fy2019</th>\n",
       "    </tr>\n",
       "  </thead>\n",
       "  <tbody>\n",
       "    <tr>\n",
       "      <th>50</th>\n",
       "      <td>50</td>\n",
       "      <td>ERI</td>\n",
       "      <td>0.00000</td>\n",
       "      <td>0.00000</td>\n",
       "      <td>0.00000</td>\n",
       "    </tr>\n",
       "    <tr>\n",
       "      <th>96</th>\n",
       "      <td>96</td>\n",
       "      <td>LBR</td>\n",
       "      <td>28.93852</td>\n",
       "      <td>28.93852</td>\n",
       "      <td>28.93852</td>\n",
       "    </tr>\n",
       "    <tr>\n",
       "      <th>97</th>\n",
       "      <td>97</td>\n",
       "      <td>LBY</td>\n",
       "      <td>0.00000</td>\n",
       "      <td>0.00000</td>\n",
       "      <td>0.00000</td>\n",
       "    </tr>\n",
       "    <tr>\n",
       "      <th>99</th>\n",
       "      <td>99</td>\n",
       "      <td>LIE</td>\n",
       "      <td>0.00000</td>\n",
       "      <td>83.51370</td>\n",
       "      <td>83.52035</td>\n",
       "    </tr>\n",
       "    <tr>\n",
       "      <th>154</th>\n",
       "      <td>154</td>\n",
       "      <td>SOM</td>\n",
       "      <td>0.00000</td>\n",
       "      <td>0.00000</td>\n",
       "      <td>0.00000</td>\n",
       "    </tr>\n",
       "    <tr>\n",
       "      <th>164</th>\n",
       "      <td>164</td>\n",
       "      <td>SYR</td>\n",
       "      <td>0.00000</td>\n",
       "      <td>0.00000</td>\n",
       "      <td>0.00000</td>\n",
       "    </tr>\n",
       "    <tr>\n",
       "      <th>187</th>\n",
       "      <td>187</td>\n",
       "      <td>YEM</td>\n",
       "      <td>0.00000</td>\n",
       "      <td>0.00000</td>\n",
       "      <td>0.00000</td>\n",
       "    </tr>\n",
       "  </tbody>\n",
       "</table>\n",
       "</div>"
      ],
      "text/plain": [
       "     Unnamed: 0 country    fy2017    fy2018    fy2019\n",
       "50           50     ERI   0.00000   0.00000   0.00000\n",
       "96           96     LBR  28.93852  28.93852  28.93852\n",
       "97           97     LBY   0.00000   0.00000   0.00000\n",
       "99           99     LIE   0.00000  83.51370  83.52035\n",
       "154         154     SOM   0.00000   0.00000   0.00000\n",
       "164         164     SYR   0.00000   0.00000   0.00000\n",
       "187         187     YEM   0.00000   0.00000   0.00000"
      ]
     },
     "execution_count": 19,
     "metadata": {},
     "output_type": "execute_result"
    }
   ],
   "source": [
    "df.loc[df['fy2017']<min_]"
   ]
  },
  {
   "cell_type": "code",
   "execution_count": 20,
   "id": "936e7093",
   "metadata": {},
   "outputs": [
    {
     "data": {
      "text/plain": [
       "3.664921465968586"
      ]
     },
     "execution_count": 20,
     "metadata": {},
     "output_type": "execute_result"
    }
   ],
   "source": [
    "len(df.loc[df['fy2017']<min_])/len(df)*100"
   ]
  },
  {
   "cell_type": "code",
   "execution_count": 21,
   "id": "01cf2bdc",
   "metadata": {},
   "outputs": [
    {
     "data": {
      "text/plain": [
       "66.6942"
      ]
     },
     "execution_count": 21,
     "metadata": {},
     "output_type": "execute_result"
    }
   ],
   "source": [
    "df['fy2017'].median()"
   ]
  },
  {
   "cell_type": "code",
   "execution_count": 22,
   "id": "d3c15857",
   "metadata": {},
   "outputs": [],
   "source": [
    "df.loc[df['fy2017']<min_,'fy2017']=df['fy2017'].median()"
   ]
  },
  {
   "cell_type": "code",
   "execution_count": 23,
   "id": "f689b24a",
   "metadata": {},
   "outputs": [
    {
     "data": {
      "text/html": [
       "<div>\n",
       "<style scoped>\n",
       "    .dataframe tbody tr th:only-of-type {\n",
       "        vertical-align: middle;\n",
       "    }\n",
       "\n",
       "    .dataframe tbody tr th {\n",
       "        vertical-align: top;\n",
       "    }\n",
       "\n",
       "    .dataframe thead th {\n",
       "        text-align: right;\n",
       "    }\n",
       "</style>\n",
       "<table border=\"1\" class=\"dataframe\">\n",
       "  <thead>\n",
       "    <tr style=\"text-align: right;\">\n",
       "      <th></th>\n",
       "      <th>Unnamed: 0</th>\n",
       "      <th>country</th>\n",
       "      <th>fy2017</th>\n",
       "      <th>fy2018</th>\n",
       "      <th>fy2019</th>\n",
       "    </tr>\n",
       "  </thead>\n",
       "  <tbody>\n",
       "  </tbody>\n",
       "</table>\n",
       "</div>"
      ],
      "text/plain": [
       "Empty DataFrame\n",
       "Columns: [Unnamed: 0, country, fy2017, fy2018, fy2019]\n",
       "Index: []"
      ]
     },
     "execution_count": 23,
     "metadata": {},
     "output_type": "execute_result"
    }
   ],
   "source": [
    "df.loc[df['fy2017']<min_]"
   ]
  },
  {
   "cell_type": "code",
   "execution_count": 24,
   "id": "9e160e6d",
   "metadata": {},
   "outputs": [
    {
     "data": {
      "image/png": "[encoded data removed]",
      "text/plain": [
       "<Figure size 640x480 with 1 Axes>"
      ]
     },
     "metadata": {},
     "output_type": "display_data"
    }
   ],
   "source": [
    "sns.boxplot(x='fy2017',data=df)\n",
    "plt.show()"
   ]
  },
  {
   "cell_type": "code",
   "execution_count": 25,
   "id": "bb645f35",
   "metadata": {},
   "outputs": [
    {
     "name": "stdout",
     "output_type": "stream",
     "text": [
      "57.710025\n",
      "73.913715\n"
     ]
    }
   ],
   "source": [
    "# Second Column\n",
    "q1 = df['fy2019'].quantile(0.25)\n",
    "q3 = df['fy2019'].quantile(0.75)\n",
    "print(q1)\n",
    "print(q3)"
   ]
  },
  {
   "cell_type": "code",
   "execution_count": 26,
   "id": "76ec76b4",
   "metadata": {},
   "outputs": [
    {
     "name": "stdout",
     "output_type": "stream",
     "text": [
      "16.203689999999995\n"
     ]
    }
   ],
   "source": [
    "IQR = q3-q1\n",
    "print(IQR)"
   ]
  },
  {
   "cell_type": "code",
   "execution_count": 27,
   "id": "18dbabf9",
   "metadata": {},
   "outputs": [
    {
     "name": "stdout",
     "output_type": "stream",
     "text": [
      "33.40449000000001\n",
      "98.21924999999999\n"
     ]
    }
   ],
   "source": [
    "min_ = q1-1.5*IQR\n",
    "max_ = q3+1.5*IQR\n",
    "print(min_)\n",
    "print(max_)"
   ]
  },
  {
   "cell_type": "code",
   "execution_count": 28,
   "id": "6b7b5d49",
   "metadata": {},
   "outputs": [
    {
     "data": {
      "text/html": [
       "<div>\n",
       "<style scoped>\n",
       "    .dataframe tbody tr th:only-of-type {\n",
       "        vertical-align: middle;\n",
       "    }\n",
       "\n",
       "    .dataframe tbody tr th {\n",
       "        vertical-align: top;\n",
       "    }\n",
       "\n",
       "    .dataframe thead th {\n",
       "        text-align: right;\n",
       "    }\n",
       "</style>\n",
       "<table border=\"1\" class=\"dataframe\">\n",
       "  <thead>\n",
       "    <tr style=\"text-align: right;\">\n",
       "      <th></th>\n",
       "      <th>Unnamed: 0</th>\n",
       "      <th>country</th>\n",
       "      <th>fy2017</th>\n",
       "      <th>fy2018</th>\n",
       "      <th>fy2019</th>\n",
       "    </tr>\n",
       "  </thead>\n",
       "  <tbody>\n",
       "  </tbody>\n",
       "</table>\n",
       "</div>"
      ],
      "text/plain": [
       "Empty DataFrame\n",
       "Columns: [Unnamed: 0, country, fy2017, fy2018, fy2019]\n",
       "Index: []"
      ]
     },
     "execution_count": 28,
     "metadata": {},
     "output_type": "execute_result"
    }
   ],
   "source": [
    "df.loc[df['fy2019']>max_]"
   ]
  },
  {
   "cell_type": "code",
   "execution_count": 29,
   "id": "73d6e9ee",
   "metadata": {},
   "outputs": [
    {
     "data": {
      "text/html": [
       "<div>\n",
       "<style scoped>\n",
       "    .dataframe tbody tr th:only-of-type {\n",
       "        vertical-align: middle;\n",
       "    }\n",
       "\n",
       "    .dataframe tbody tr th {\n",
       "        vertical-align: top;\n",
       "    }\n",
       "\n",
       "    .dataframe thead th {\n",
       "        text-align: right;\n",
       "    }\n",
       "</style>\n",
       "<table border=\"1\" class=\"dataframe\">\n",
       "  <thead>\n",
       "    <tr style=\"text-align: right;\">\n",
       "      <th></th>\n",
       "      <th>Unnamed: 0</th>\n",
       "      <th>country</th>\n",
       "      <th>fy2017</th>\n",
       "      <th>fy2018</th>\n",
       "      <th>fy2019</th>\n",
       "    </tr>\n",
       "  </thead>\n",
       "  <tbody>\n",
       "    <tr>\n",
       "      <th>50</th>\n",
       "      <td>50</td>\n",
       "      <td>ERI</td>\n",
       "      <td>66.6942</td>\n",
       "      <td>0.00000</td>\n",
       "      <td>0.00000</td>\n",
       "    </tr>\n",
       "    <tr>\n",
       "      <th>96</th>\n",
       "      <td>96</td>\n",
       "      <td>LBR</td>\n",
       "      <td>66.6942</td>\n",
       "      <td>28.93852</td>\n",
       "      <td>28.93852</td>\n",
       "    </tr>\n",
       "    <tr>\n",
       "      <th>97</th>\n",
       "      <td>97</td>\n",
       "      <td>LBY</td>\n",
       "      <td>66.6942</td>\n",
       "      <td>0.00000</td>\n",
       "      <td>0.00000</td>\n",
       "    </tr>\n",
       "    <tr>\n",
       "      <th>154</th>\n",
       "      <td>154</td>\n",
       "      <td>SOM</td>\n",
       "      <td>66.6942</td>\n",
       "      <td>0.00000</td>\n",
       "      <td>0.00000</td>\n",
       "    </tr>\n",
       "    <tr>\n",
       "      <th>164</th>\n",
       "      <td>164</td>\n",
       "      <td>SYR</td>\n",
       "      <td>66.6942</td>\n",
       "      <td>0.00000</td>\n",
       "      <td>0.00000</td>\n",
       "    </tr>\n",
       "    <tr>\n",
       "      <th>187</th>\n",
       "      <td>187</td>\n",
       "      <td>YEM</td>\n",
       "      <td>66.6942</td>\n",
       "      <td>0.00000</td>\n",
       "      <td>0.00000</td>\n",
       "    </tr>\n",
       "  </tbody>\n",
       "</table>\n",
       "</div>"
      ],
      "text/plain": [
       "     Unnamed: 0 country   fy2017    fy2018    fy2019\n",
       "50           50     ERI  66.6942   0.00000   0.00000\n",
       "96           96     LBR  66.6942  28.93852  28.93852\n",
       "97           97     LBY  66.6942   0.00000   0.00000\n",
       "154         154     SOM  66.6942   0.00000   0.00000\n",
       "164         164     SYR  66.6942   0.00000   0.00000\n",
       "187         187     YEM  66.6942   0.00000   0.00000"
      ]
     },
     "execution_count": 29,
     "metadata": {},
     "output_type": "execute_result"
    }
   ],
   "source": [
    "df.loc[df['fy2019']<min_]"
   ]
  },
  {
   "cell_type": "code",
   "execution_count": 30,
   "id": "4963f651",
   "metadata": {},
   "outputs": [
    {
     "data": {
      "text/plain": [
       "3.1413612565445024"
      ]
     },
     "execution_count": 30,
     "metadata": {},
     "output_type": "execute_result"
    }
   ],
   "source": [
    "len(df.loc[df['fy2019']<min_])/len(df) * 100"
   ]
  },
  {
   "cell_type": "code",
   "execution_count": 31,
   "id": "e66143b7",
   "metadata": {},
   "outputs": [],
   "source": [
    "df.loc[df['fy2019']<min_,'fy2019']=df['fy2019'].median()"
   ]
  },
  {
   "cell_type": "code",
   "execution_count": 32,
   "id": "f7325d8a",
   "metadata": {},
   "outputs": [
    {
     "data": {
      "text/html": [
       "<div>\n",
       "<style scoped>\n",
       "    .dataframe tbody tr th:only-of-type {\n",
       "        vertical-align: middle;\n",
       "    }\n",
       "\n",
       "    .dataframe tbody tr th {\n",
       "        vertical-align: top;\n",
       "    }\n",
       "\n",
       "    .dataframe thead th {\n",
       "        text-align: right;\n",
       "    }\n",
       "</style>\n",
       "<table border=\"1\" class=\"dataframe\">\n",
       "  <thead>\n",
       "    <tr style=\"text-align: right;\">\n",
       "      <th></th>\n",
       "      <th>Unnamed: 0</th>\n",
       "      <th>country</th>\n",
       "      <th>fy2017</th>\n",
       "      <th>fy2018</th>\n",
       "      <th>fy2019</th>\n",
       "    </tr>\n",
       "  </thead>\n",
       "  <tbody>\n",
       "  </tbody>\n",
       "</table>\n",
       "</div>"
      ],
      "text/plain": [
       "Empty DataFrame\n",
       "Columns: [Unnamed: 0, country, fy2017, fy2018, fy2019]\n",
       "Index: []"
      ]
     },
     "execution_count": 32,
     "metadata": {},
     "output_type": "execute_result"
    }
   ],
   "source": [
    "df.loc[df['fy2019']<min_]"
   ]
  },
  {
   "cell_type": "code",
   "execution_count": 33,
   "id": "be83c02e",
   "metadata": {},
   "outputs": [
    {
     "data": {
      "image/png": "[encoded data removed]",
      "text/plain": [
       "<Figure size 640x480 with 1 Axes>"
      ]
     },
     "metadata": {},
     "output_type": "display_data"
    }
   ],
   "source": [
    "sns.boxplot(x='fy2019',data=df)\n",
    "plt.show()"
   ]
  },
  {
   "cell_type": "code",
   "execution_count": 34,
   "id": "b21e3b69",
   "metadata": {},
   "outputs": [
    {
     "name": "stdout",
     "output_type": "stream",
     "text": [
      "59.640150000000006\n",
      "75.18295499999999\n"
     ]
    }
   ],
   "source": [
    "q1 = df['fy2018'].quantile(0.25)\n",
    "q3 = df['fy2018'].quantile(0.75)\n",
    "print(q1)\n",
    "print(q3)"
   ]
  },
  {
   "cell_type": "code",
   "execution_count": 35,
   "id": "ed3fb7fc",
   "metadata": {},
   "outputs": [
    {
     "name": "stdout",
     "output_type": "stream",
     "text": [
      "IQR: 15.542804999999987\n"
     ]
    }
   ],
   "source": [
    "IQR = q3 - q1\n",
    "print('IQR:',IQR)"
   ]
  },
  {
   "cell_type": "code",
   "execution_count": 36,
   "id": "8f8fb597",
   "metadata": {},
   "outputs": [],
   "source": [
    "min_=q1-1.5*IQR\n",
    "max_=q3+1.5*IQR"
   ]
  },
  {
   "cell_type": "code",
   "execution_count": 37,
   "id": "10789abe",
   "metadata": {},
   "outputs": [
    {
     "name": "stdout",
     "output_type": "stream",
     "text": [
      "36.325942500000025\n",
      "98.49716249999997\n"
     ]
    }
   ],
   "source": [
    "print(min_)\n",
    "print(max_)"
   ]
  },
  {
   "cell_type": "code",
   "execution_count": 38,
   "id": "9e9b877d",
   "metadata": {},
   "outputs": [
    {
     "data": {
      "text/html": [
       "<div>\n",
       "<style scoped>\n",
       "    .dataframe tbody tr th:only-of-type {\n",
       "        vertical-align: middle;\n",
       "    }\n",
       "\n",
       "    .dataframe tbody tr th {\n",
       "        vertical-align: top;\n",
       "    }\n",
       "\n",
       "    .dataframe thead th {\n",
       "        text-align: right;\n",
       "    }\n",
       "</style>\n",
       "<table border=\"1\" class=\"dataframe\">\n",
       "  <thead>\n",
       "    <tr style=\"text-align: right;\">\n",
       "      <th></th>\n",
       "      <th>Unnamed: 0</th>\n",
       "      <th>country</th>\n",
       "      <th>fy2017</th>\n",
       "      <th>fy2018</th>\n",
       "      <th>fy2019</th>\n",
       "    </tr>\n",
       "  </thead>\n",
       "  <tbody>\n",
       "    <tr>\n",
       "      <th>0</th>\n",
       "      <td>0</td>\n",
       "      <td>AFG</td>\n",
       "      <td>33.70269</td>\n",
       "      <td>34.53602</td>\n",
       "      <td>34.53602</td>\n",
       "    </tr>\n",
       "    <tr>\n",
       "      <th>27</th>\n",
       "      <td>27</td>\n",
       "      <td>CAF</td>\n",
       "      <td>34.09510</td>\n",
       "      <td>34.09510</td>\n",
       "      <td>34.09510</td>\n",
       "    </tr>\n",
       "    <tr>\n",
       "      <th>50</th>\n",
       "      <td>50</td>\n",
       "      <td>ERI</td>\n",
       "      <td>66.69420</td>\n",
       "      <td>0.00000</td>\n",
       "      <td>67.94367</td>\n",
       "    </tr>\n",
       "    <tr>\n",
       "      <th>96</th>\n",
       "      <td>96</td>\n",
       "      <td>LBR</td>\n",
       "      <td>66.69420</td>\n",
       "      <td>28.93852</td>\n",
       "      <td>67.94367</td>\n",
       "    </tr>\n",
       "    <tr>\n",
       "      <th>97</th>\n",
       "      <td>97</td>\n",
       "      <td>LBY</td>\n",
       "      <td>66.69420</td>\n",
       "      <td>0.00000</td>\n",
       "      <td>67.94367</td>\n",
       "    </tr>\n",
       "    <tr>\n",
       "      <th>107</th>\n",
       "      <td>107</td>\n",
       "      <td>MDG</td>\n",
       "      <td>34.22959</td>\n",
       "      <td>35.89625</td>\n",
       "      <td>35.89625</td>\n",
       "    </tr>\n",
       "    <tr>\n",
       "      <th>154</th>\n",
       "      <td>154</td>\n",
       "      <td>SOM</td>\n",
       "      <td>66.69420</td>\n",
       "      <td>0.00000</td>\n",
       "      <td>67.94367</td>\n",
       "    </tr>\n",
       "    <tr>\n",
       "      <th>164</th>\n",
       "      <td>164</td>\n",
       "      <td>SYR</td>\n",
       "      <td>66.69420</td>\n",
       "      <td>0.00000</td>\n",
       "      <td>67.94367</td>\n",
       "    </tr>\n",
       "    <tr>\n",
       "      <th>187</th>\n",
       "      <td>187</td>\n",
       "      <td>YEM</td>\n",
       "      <td>66.69420</td>\n",
       "      <td>0.00000</td>\n",
       "      <td>67.94367</td>\n",
       "    </tr>\n",
       "  </tbody>\n",
       "</table>\n",
       "</div>"
      ],
      "text/plain": [
       "     Unnamed: 0 country    fy2017    fy2018    fy2019\n",
       "0             0     AFG  33.70269  34.53602  34.53602\n",
       "27           27     CAF  34.09510  34.09510  34.09510\n",
       "50           50     ERI  66.69420   0.00000  67.94367\n",
       "96           96     LBR  66.69420  28.93852  67.94367\n",
       "97           97     LBY  66.69420   0.00000  67.94367\n",
       "107         107     MDG  34.22959  35.89625  35.89625\n",
       "154         154     SOM  66.69420   0.00000  67.94367\n",
       "164         164     SYR  66.69420   0.00000  67.94367\n",
       "187         187     YEM  66.69420   0.00000  67.94367"
      ]
     },
     "execution_count": 38,
     "metadata": {},
     "output_type": "execute_result"
    }
   ],
   "source": [
    "df.loc[df['fy2018']<min_]"
   ]
  },
  {
   "cell_type": "code",
   "execution_count": 39,
   "id": "7f28869e",
   "metadata": {},
   "outputs": [
    {
     "data": {
      "text/html": [
       "<div>\n",
       "<style scoped>\n",
       "    .dataframe tbody tr th:only-of-type {\n",
       "        vertical-align: middle;\n",
       "    }\n",
       "\n",
       "    .dataframe tbody tr th {\n",
       "        vertical-align: top;\n",
       "    }\n",
       "\n",
       "    .dataframe thead th {\n",
       "        text-align: right;\n",
       "    }\n",
       "</style>\n",
       "<table border=\"1\" class=\"dataframe\">\n",
       "  <thead>\n",
       "    <tr style=\"text-align: right;\">\n",
       "      <th></th>\n",
       "      <th>Unnamed: 0</th>\n",
       "      <th>country</th>\n",
       "      <th>fy2017</th>\n",
       "      <th>fy2018</th>\n",
       "      <th>fy2019</th>\n",
       "    </tr>\n",
       "  </thead>\n",
       "  <tbody>\n",
       "  </tbody>\n",
       "</table>\n",
       "</div>"
      ],
      "text/plain": [
       "Empty DataFrame\n",
       "Columns: [Unnamed: 0, country, fy2017, fy2018, fy2019]\n",
       "Index: []"
      ]
     },
     "execution_count": 39,
     "metadata": {},
     "output_type": "execute_result"
    }
   ],
   "source": [
    "df.loc[df['fy2018']>max_]"
   ]
  },
  {
   "cell_type": "code",
   "execution_count": 40,
   "id": "7ac8cadc",
   "metadata": {},
   "outputs": [
    {
     "data": {
      "image/png": "[encoded data removed]",
      "text/plain": [
       "<Figure size 640x480 with 1 Axes>"
      ]
     },
     "metadata": {},
     "output_type": "display_data"
    }
   ],
   "source": [
    "sns.boxplot(x='fy2018',data=df)\n",
    "plt.show()"
   ]
  },
  {
   "cell_type": "code",
   "execution_count": 41,
   "id": "8b085a95",
   "metadata": {},
   "outputs": [],
   "source": [
    "df.loc[df['fy2018']<min_,'fy2018']=df.fy2018.median()"
   ]
  },
  {
   "cell_type": "code",
   "execution_count": 42,
   "id": "38259101",
   "metadata": {},
   "outputs": [
    {
     "data": {
      "text/html": [
       "<div>\n",
       "<style scoped>\n",
       "    .dataframe tbody tr th:only-of-type {\n",
       "        vertical-align: middle;\n",
       "    }\n",
       "\n",
       "    .dataframe tbody tr th {\n",
       "        vertical-align: top;\n",
       "    }\n",
       "\n",
       "    .dataframe thead th {\n",
       "        text-align: right;\n",
       "    }\n",
       "</style>\n",
       "<table border=\"1\" class=\"dataframe\">\n",
       "  <thead>\n",
       "    <tr style=\"text-align: right;\">\n",
       "      <th></th>\n",
       "      <th>Unnamed: 0</th>\n",
       "      <th>country</th>\n",
       "      <th>fy2017</th>\n",
       "      <th>fy2018</th>\n",
       "      <th>fy2019</th>\n",
       "    </tr>\n",
       "  </thead>\n",
       "  <tbody>\n",
       "  </tbody>\n",
       "</table>\n",
       "</div>"
      ],
      "text/plain": [
       "Empty DataFrame\n",
       "Columns: [Unnamed: 0, country, fy2017, fy2018, fy2019]\n",
       "Index: []"
      ]
     },
     "execution_count": 42,
     "metadata": {},
     "output_type": "execute_result"
    }
   ],
   "source": [
    "df.loc[df['fy2018']<min_]"
   ]
  },
  {
   "cell_type": "code",
   "execution_count": 43,
   "id": "f4b1fda7",
   "metadata": {},
   "outputs": [
    {
     "data": {
      "image/png": "[encoded data removed]",
      "text/plain": [
       "<Figure size 640x480 with 1 Axes>"
      ]
     },
     "metadata": {},
     "output_type": "display_data"
    }
   ],
   "source": [
    "sns.boxplot(x='fy2018',data=df)\n",
    "plt.show()"
   ]
  },
  {
   "cell_type": "code",
   "execution_count": 44,
   "id": "2b80665e",
   "metadata": {},
   "outputs": [
    {
     "data": {
      "text/html": [
       "<div>\n",
       "<style scoped>\n",
       "    .dataframe tbody tr th:only-of-type {\n",
       "        vertical-align: middle;\n",
       "    }\n",
       "\n",
       "    .dataframe tbody tr th {\n",
       "        vertical-align: top;\n",
       "    }\n",
       "\n",
       "    .dataframe thead th {\n",
       "        text-align: right;\n",
       "    }\n",
       "</style>\n",
       "<table border=\"1\" class=\"dataframe\">\n",
       "  <thead>\n",
       "    <tr style=\"text-align: right;\">\n",
       "      <th></th>\n",
       "      <th>Unnamed: 0</th>\n",
       "      <th>country</th>\n",
       "      <th>fy2017</th>\n",
       "      <th>fy2018</th>\n",
       "      <th>fy2019</th>\n",
       "    </tr>\n",
       "  </thead>\n",
       "  <tbody>\n",
       "    <tr>\n",
       "      <th>0</th>\n",
       "      <td>0</td>\n",
       "      <td>AFG</td>\n",
       "      <td>33.70269</td>\n",
       "      <td>68.68324</td>\n",
       "      <td>34.53602</td>\n",
       "    </tr>\n",
       "    <tr>\n",
       "      <th>1</th>\n",
       "      <td>1</td>\n",
       "      <td>AGO</td>\n",
       "      <td>64.57157</td>\n",
       "      <td>65.32993</td>\n",
       "      <td>64.99177</td>\n",
       "    </tr>\n",
       "    <tr>\n",
       "      <th>2</th>\n",
       "      <td>2</td>\n",
       "      <td>ALB</td>\n",
       "      <td>52.60171</td>\n",
       "      <td>52.67715</td>\n",
       "      <td>52.64734</td>\n",
       "    </tr>\n",
       "    <tr>\n",
       "      <th>3</th>\n",
       "      <td>3</td>\n",
       "      <td>ARE</td>\n",
       "      <td>86.51006</td>\n",
       "      <td>89.75407</td>\n",
       "      <td>86.52729</td>\n",
       "    </tr>\n",
       "    <tr>\n",
       "      <th>4</th>\n",
       "      <td>4</td>\n",
       "      <td>ARG</td>\n",
       "      <td>48.96341</td>\n",
       "      <td>56.44015</td>\n",
       "      <td>49.26822</td>\n",
       "    </tr>\n",
       "  </tbody>\n",
       "</table>\n",
       "</div>"
      ],
      "text/plain": [
       "   Unnamed: 0 country    fy2017    fy2018    fy2019\n",
       "0           0     AFG  33.70269  68.68324  34.53602\n",
       "1           1     AGO  64.57157  65.32993  64.99177\n",
       "2           2     ALB  52.60171  52.67715  52.64734\n",
       "3           3     ARE  86.51006  89.75407  86.52729\n",
       "4           4     ARG  48.96341  56.44015  49.26822"
      ]
     },
     "execution_count": 44,
     "metadata": {},
     "output_type": "execute_result"
    }
   ],
   "source": [
    "df.head()"
   ]
  },
  {
   "cell_type": "code",
   "execution_count": 45,
   "id": "bab0cc83",
   "metadata": {},
   "outputs": [],
   "source": [
    "df.drop(columns='Unnamed: 0',inplace=True)"
   ]
  },
  {
   "cell_type": "markdown",
   "id": "d3721aaf-d164-4130-9567-0867768b450a",
   "metadata": {
    "id": "d3721aaf-d164-4130-9567-0867768b450a"
   },
   "source": [
    "#### Numerical data for Clustering"
   ]
  },
  {
   "cell_type": "code",
   "execution_count": 46,
   "id": "231817dc",
   "metadata": {},
   "outputs": [],
   "source": [
    "# Set colours to the clusters to differntiate(not required in main implementation)\n",
    "color_scheme = np.array(['red','blue','green','blue','cyan'])"
   ]
  },
  {
   "cell_type": "code",
   "execution_count": 47,
   "id": "7ab9ba61-effc-4603-bba7-d297fa1e033e",
   "metadata": {
    "id": "7ab9ba61-effc-4603-bba7-d297fa1e033e"
   },
   "outputs": [
    {
     "data": {
      "text/html": [
       "<div>\n",
       "<style scoped>\n",
       "    .dataframe tbody tr th:only-of-type {\n",
       "        vertical-align: middle;\n",
       "    }\n",
       "\n",
       "    .dataframe tbody tr th {\n",
       "        vertical-align: top;\n",
       "    }\n",
       "\n",
       "    .dataframe thead th {\n",
       "        text-align: right;\n",
       "    }\n",
       "</style>\n",
       "<table border=\"1\" class=\"dataframe\">\n",
       "  <thead>\n",
       "    <tr style=\"text-align: right;\">\n",
       "      <th></th>\n",
       "      <th>fy2017</th>\n",
       "      <th>fy2018</th>\n",
       "      <th>fy2019</th>\n",
       "    </tr>\n",
       "  </thead>\n",
       "  <tbody>\n",
       "    <tr>\n",
       "      <th>0</th>\n",
       "      <td>33.70269</td>\n",
       "      <td>68.68324</td>\n",
       "      <td>34.53602</td>\n",
       "    </tr>\n",
       "    <tr>\n",
       "      <th>1</th>\n",
       "      <td>64.57157</td>\n",
       "      <td>65.32993</td>\n",
       "      <td>64.99177</td>\n",
       "    </tr>\n",
       "    <tr>\n",
       "      <th>2</th>\n",
       "      <td>52.60171</td>\n",
       "      <td>52.67715</td>\n",
       "      <td>52.64734</td>\n",
       "    </tr>\n",
       "    <tr>\n",
       "      <th>3</th>\n",
       "      <td>86.51006</td>\n",
       "      <td>89.75407</td>\n",
       "      <td>86.52729</td>\n",
       "    </tr>\n",
       "    <tr>\n",
       "      <th>4</th>\n",
       "      <td>48.96341</td>\n",
       "      <td>56.44015</td>\n",
       "      <td>49.26822</td>\n",
       "    </tr>\n",
       "  </tbody>\n",
       "</table>\n",
       "</div>"
      ],
      "text/plain": [
       "     fy2017    fy2018    fy2019\n",
       "0  33.70269  68.68324  34.53602\n",
       "1  64.57157  65.32993  64.99177\n",
       "2  52.60171  52.67715  52.64734\n",
       "3  86.51006  89.75407  86.52729\n",
       "4  48.96341  56.44015  49.26822"
      ]
     },
     "execution_count": 47,
     "metadata": {},
     "output_type": "execute_result"
    }
   ],
   "source": [
    "X=df.iloc[:,1:]\n",
    "X.head()"
   ]
  },
  {
   "cell_type": "markdown",
   "id": "01fb8cf6",
   "metadata": {
    "id": "01fb8cf6"
   },
   "source": [
    "## Elbow Technique"
   ]
  },
  {
   "cell_type": "markdown",
   "id": "976142f0",
   "metadata": {
    "id": "976142f0"
   },
   "source": [
    "Elbow method is the most popular method that is used to determine the optimal value of k.\n",
    "\n",
    "**How it works?**\n",
    "\n",
    "- Start with some K.\n",
    "- Calculate WCSS (Within Cluster Sum of squared errors) ie., for each of the cluster, it calculate the distance of individual data points from the centroid, then square it and sum it up.\n",
    "             WCSS = WCSS1 + WCSS2 + ..... WCSSk\n",
    "             \n",
    "- Take new value for K, repeat step2.\n",
    "- For each number of K, WCSS is calculated.\n",
    "- Find the elbow point. That is the optimal value of K.\n",
    "\n",
    " As the number of K increases, the error reduces.\n",
    "\n"
   ]
  },
  {
   "cell_type": "code",
   "execution_count": 48,
   "id": "095425d4",
   "metadata": {
    "id": "095425d4"
   },
   "outputs": [
    {
     "data": {
      "image/png": "[encoded data removed]",
      "text/plain": [
       "<Figure size 640x480 with 1 Axes>"
      ]
     },
     "metadata": {},
     "output_type": "display_data"
    }
   ],
   "source": [
    "# Elbow Method\n",
    "from sklearn.cluster import KMeans\n",
    "import warnings\n",
    "warnings.filterwarnings(\"ignore\")\n",
    "wcss=[]\n",
    "for i in range (1,12):\n",
    "    kmeans=KMeans(n_clusters=i,random_state=42)\n",
    "    kmeans.fit(X)\n",
    "    wcss.append(kmeans.inertia_) #In k-means clustering, inertia measures how well the clusters are formed. \n",
    "                                 #It is the sum of squared distances of each point to the nearest cluster center.\n",
    "plt.plot(range(1,12),wcss)\n",
    "plt.title('The Elbow Method')\n",
    "plt.xlabel('Number of clusters')\n",
    "plt.ylabel('WCSS')\n",
    "plt.show()"
   ]
  },
  {
   "cell_type": "markdown",
   "id": "e554d0a1",
   "metadata": {
    "id": "e554d0a1"
   },
   "source": [
    "To determine the optimal number of clusters, we have to select the value of k at the “elbow” ie., the point after which the distortion/inertia start decreasing in a linear fashion."
   ]
  },
  {
   "cell_type": "markdown",
   "id": "418db230",
   "metadata": {
    "id": "418db230"
   },
   "source": [
    "## Model Building"
   ]
  },
  {
   "cell_type": "code",
   "execution_count": 49,
   "id": "c000159e-7e97-40a9-88b0-363cac799545",
   "metadata": {
    "id": "c000159e-7e97-40a9-88b0-363cac799545"
   },
   "outputs": [
    {
     "data": {
      "text/html": [
       "<style>#sk-container-id-1 {color: black;background-color: white;}#sk-container-id-1 pre{padding: 0;}#sk-container-id-1 div.sk-toggleable {background-color: white;}#sk-container-id-1 label.sk-toggleable__label {cursor: pointer;display: block;width: 100%;margin-bottom: 0;padding: 0.3em;box-sizing: border-box;text-align: center;}#sk-container-id-1 label.sk-toggleable__label-arrow:before {content: \"▸\";float: left;margin-right: 0.25em;color: #696969;}#sk-container-id-1 label.sk-toggleable__label-arrow:hover:before {color: black;}#sk-container-id-1 div.sk-estimator:hover label.sk-toggleable__label-arrow:before {color: black;}#sk-container-id-1 div.sk-toggleable__content {max-height: 0;max-width: 0;overflow: hidden;text-align: left;background-color: #f0f8ff;}#sk-container-id-1 div.sk-toggleable__content pre {margin: 0.2em;color: black;border-radius: 0.25em;background-color: #f0f8ff;}#sk-container-id-1 input.sk-toggleable__control:checked~div.sk-toggleable__content {max-height: 200px;max-width: 100%;overflow: auto;}#sk-container-id-1 input.sk-toggleable__control:checked~label.sk-toggleable__label-arrow:before {content: \"▾\";}#sk-container-id-1 div.sk-estimator input.sk-toggleable__control:checked~label.sk-toggleable__label {background-color: #d4ebff;}#sk-container-id-1 div.sk-label input.sk-toggleable__control:checked~label.sk-toggleable__label {background-color: #d4ebff;}#sk-container-id-1 input.sk-hidden--visually {border: 0;clip: rect(1px 1px 1px 1px);clip: rect(1px, 1px, 1px, 1px);height: 1px;margin: -1px;overflow: hidden;padding: 0;position: absolute;width: 1px;}#sk-container-id-1 div.sk-estimator {font-family: monospace;background-color: #f0f8ff;border: 1px dotted black;border-radius: 0.25em;box-sizing: border-box;margin-bottom: 0.5em;}#sk-container-id-1 div.sk-estimator:hover {background-color: #d4ebff;}#sk-container-id-1 div.sk-parallel-item::after {content: \"\";width: 100%;border-bottom: 1px solid gray;flex-grow: 1;}#sk-container-id-1 div.sk-label:hover label.sk-toggleable__label {background-color: #d4ebff;}#sk-container-id-1 div.sk-serial::before {content: \"\";position: absolute;border-left: 1px solid gray;box-sizing: border-box;top: 0;bottom: 0;left: 50%;z-index: 0;}#sk-container-id-1 div.sk-serial {display: flex;flex-direction: column;align-items: center;background-color: white;padding-right: 0.2em;padding-left: 0.2em;position: relative;}#sk-container-id-1 div.sk-item {position: relative;z-index: 1;}#sk-container-id-1 div.sk-parallel {display: flex;align-items: stretch;justify-content: center;background-color: white;position: relative;}#sk-container-id-1 div.sk-item::before, #sk-container-id-1 div.sk-parallel-item::before {content: \"\";position: absolute;border-left: 1px solid gray;box-sizing: border-box;top: 0;bottom: 0;left: 50%;z-index: -1;}#sk-container-id-1 div.sk-parallel-item {display: flex;flex-direction: column;z-index: 1;position: relative;background-color: white;}#sk-container-id-1 div.sk-parallel-item:first-child::after {align-self: flex-end;width: 50%;}#sk-container-id-1 div.sk-parallel-item:last-child::after {align-self: flex-start;width: 50%;}#sk-container-id-1 div.sk-parallel-item:only-child::after {width: 0;}#sk-container-id-1 div.sk-dashed-wrapped {border: 1px dashed gray;margin: 0 0.4em 0.5em 0.4em;box-sizing: border-box;padding-bottom: 0.4em;background-color: white;}#sk-container-id-1 div.sk-label label {font-family: monospace;font-weight: bold;display: inline-block;line-height: 1.2em;}#sk-container-id-1 div.sk-label-container {text-align: center;}#sk-container-id-1 div.sk-container {/* jupyter's `normalize.less` sets `[hidden] { display: none; }` but bootstrap.min.css set `[hidden] { display: none !important; }` so we also need the `!important` here to be able to override the default hidden behavior on the sphinx rendered scikit-learn.org. See: https://github.com/scikit-learn/scikit-learn/issues/21755 */display: inline-block !important;position: relative;}#sk-container-id-1 div.sk-text-repr-fallback {display: none;}</style><div id=\"sk-container-id-1\" class=\"sk-top-container\"><div class=\"sk-text-repr-fallback\"><pre>KMeans(n_clusters=3, random_state=42)</pre><b>In a Jupyter environment, please rerun this cell to show the HTML representation or trust the notebook. <br />On GitHub, the HTML representation is unable to render, please try loading this page with nbviewer.org.</b></div><div class=\"sk-container\" hidden><div class=\"sk-item\"><div class=\"sk-estimator sk-toggleable\"><input class=\"sk-toggleable__control sk-hidden--visually\" id=\"sk-estimator-id-1\" type=\"checkbox\" checked><label for=\"sk-estimator-id-1\" class=\"sk-toggleable__label sk-toggleable__label-arrow\">KMeans</label><div class=\"sk-toggleable__content\"><pre>KMeans(n_clusters=3, random_state=42)</pre></div></div></div></div></div>"
      ],
      "text/plain": [
       "KMeans(n_clusters=3, random_state=42)"
      ]
     },
     "execution_count": 49,
     "metadata": {},
     "output_type": "execute_result"
    }
   ],
   "source": [
    "# Initialise the model with K as 3\n",
    "from sklearn.cluster import KMeans\n",
    "model = KMeans(n_clusters=3, random_state=42)\n",
    "\n",
    "#Training the model\n",
    "model.fit(X)"
   ]
  },
  {
   "cell_type": "code",
   "execution_count": 50,
   "id": "177eb56e",
   "metadata": {
    "id": "177eb56e"
   },
   "outputs": [
    {
     "data": {
      "text/plain": [
       "array([0, 2, 0, 1, 0, 2, 2, 1, 1, 2, 0, 1, 2, 2, 2, 1, 1, 2, 0, 1, 2, 2,\n",
       "       0, 0, 1, 2, 1, 0, 1, 2, 1, 2, 0, 0, 0, 2, 2, 2, 1, 2, 2, 0, 1, 2,\n",
       "       2, 1, 2, 2, 2, 2, 2, 2, 1, 0, 1, 2, 1, 2, 0, 1, 1, 2, 2, 0, 0, 0,\n",
       "       2, 2, 2, 0, 1, 0, 0, 0, 2, 2, 2, 1, 2, 2, 2, 1, 2, 2, 2, 1, 1, 2,\n",
       "       2, 0, 0, 1, 1, 2, 2, 0, 2, 2, 1, 1, 2, 0, 1, 1, 1, 1, 0, 0, 1, 2,\n",
       "       2, 1, 2, 1, 2, 1, 1, 1, 2, 1, 2, 1, 2, 0, 2, 0, 2, 1, 2, 1, 1, 0,\n",
       "       2, 2, 2, 2, 2, 1, 2, 1, 2, 0, 1, 0, 1, 2, 1, 2, 2, 1, 0, 0, 0, 2,\n",
       "       2, 1, 0, 2, 2, 2, 2, 1, 2, 2, 2, 0, 0, 1, 2, 0, 1, 2, 1, 2, 1, 0,\n",
       "       2, 1, 0, 1, 2, 1, 0, 1, 0, 2, 0, 2, 2, 2, 0])"
      ]
     },
     "execution_count": 50,
     "metadata": {},
     "output_type": "execute_result"
    }
   ],
   "source": [
    "label=model.labels_\n",
    "label"
   ]
  },
  {
   "cell_type": "code",
   "execution_count": 51,
   "id": "dae60806",
   "metadata": {
    "id": "dae60806"
   },
   "outputs": [
    {
     "data": {
      "text/plain": [
       "Counter({0: 45, 2: 87, 1: 59})"
      ]
     },
     "execution_count": 51,
     "metadata": {},
     "output_type": "execute_result"
    }
   ],
   "source": [
    "from collections import Counter\n",
    "Counter(label)"
   ]
  },
  {
   "cell_type": "code",
   "execution_count": 52,
   "id": "f3234a80",
   "metadata": {},
   "outputs": [
    {
     "data": {
      "image/png": "[encoded data removed]",
      "text/plain": [
       "<Figure size 300x300 with 1 Axes>"
      ]
     },
     "metadata": {},
     "output_type": "display_data"
    }
   ],
   "source": [
    "# Visualize the clusters formed by the model \n",
    "plt.figure(figsize=(3,3))\n",
    "plt.scatter(X.fy2017,X.fy2019,X.fy2018,color=color_scheme[model.labels_]);"
   ]
  },
  {
   "cell_type": "code",
   "execution_count": 53,
   "id": "31ef228f",
   "metadata": {
    "id": "31ef228f"
   },
   "outputs": [
    {
     "data": {
      "text/plain": [
       "array([0])"
      ]
     },
     "execution_count": 53,
     "metadata": {},
     "output_type": "execute_result"
    }
   ],
   "source": [
    "new_point=[[15,40,100]] # A new observation\n",
    "model.predict(new_point) # predicted label"
   ]
  },
  {
   "cell_type": "code",
   "execution_count": null,
   "id": "fca520d1",
   "metadata": {},
   "outputs": [],
   "source": []
  },
  {
   "cell_type": "markdown",
   "id": "ac94fce3-6e87-4681-a9e7-930710e77019",
   "metadata": {
    "id": "ac94fce3-6e87-4681-a9e7-930710e77019"
   },
   "source": [
    "### Interpretation of the Cluster Labels"
   ]
  },
  {
   "cell_type": "code",
   "execution_count": 54,
   "id": "6223c892",
   "metadata": {
    "id": "6223c892"
   },
   "outputs": [
    {
     "data": {
      "text/html": [
       "<div>\n",
       "<style scoped>\n",
       "    .dataframe tbody tr th:only-of-type {\n",
       "        vertical-align: middle;\n",
       "    }\n",
       "\n",
       "    .dataframe tbody tr th {\n",
       "        vertical-align: top;\n",
       "    }\n",
       "\n",
       "    .dataframe thead th {\n",
       "        text-align: right;\n",
       "    }\n",
       "</style>\n",
       "<table border=\"1\" class=\"dataframe\">\n",
       "  <thead>\n",
       "    <tr style=\"text-align: right;\">\n",
       "      <th></th>\n",
       "      <th>country</th>\n",
       "      <th>fy2017</th>\n",
       "      <th>fy2018</th>\n",
       "      <th>fy2019</th>\n",
       "      <th>Labels</th>\n",
       "    </tr>\n",
       "  </thead>\n",
       "  <tbody>\n",
       "    <tr>\n",
       "      <th>0</th>\n",
       "      <td>AFG</td>\n",
       "      <td>33.70269</td>\n",
       "      <td>68.68324</td>\n",
       "      <td>34.53602</td>\n",
       "      <td>0</td>\n",
       "    </tr>\n",
       "    <tr>\n",
       "      <th>1</th>\n",
       "      <td>AGO</td>\n",
       "      <td>64.57157</td>\n",
       "      <td>65.32993</td>\n",
       "      <td>64.99177</td>\n",
       "      <td>2</td>\n",
       "    </tr>\n",
       "    <tr>\n",
       "      <th>2</th>\n",
       "      <td>ALB</td>\n",
       "      <td>52.60171</td>\n",
       "      <td>52.67715</td>\n",
       "      <td>52.64734</td>\n",
       "      <td>0</td>\n",
       "    </tr>\n",
       "    <tr>\n",
       "      <th>3</th>\n",
       "      <td>ARE</td>\n",
       "      <td>86.51006</td>\n",
       "      <td>89.75407</td>\n",
       "      <td>86.52729</td>\n",
       "      <td>1</td>\n",
       "    </tr>\n",
       "    <tr>\n",
       "      <th>4</th>\n",
       "      <td>ARG</td>\n",
       "      <td>48.96341</td>\n",
       "      <td>56.44015</td>\n",
       "      <td>49.26822</td>\n",
       "      <td>0</td>\n",
       "    </tr>\n",
       "    <tr>\n",
       "      <th>...</th>\n",
       "      <td>...</td>\n",
       "      <td>...</td>\n",
       "      <td>...</td>\n",
       "      <td>...</td>\n",
       "      <td>...</td>\n",
       "    </tr>\n",
       "    <tr>\n",
       "      <th>186</th>\n",
       "      <td>XKX</td>\n",
       "      <td>50.29844</td>\n",
       "      <td>55.28702</td>\n",
       "      <td>52.87432</td>\n",
       "      <td>0</td>\n",
       "    </tr>\n",
       "    <tr>\n",
       "      <th>187</th>\n",
       "      <td>YEM</td>\n",
       "      <td>66.69420</td>\n",
       "      <td>68.68324</td>\n",
       "      <td>67.94367</td>\n",
       "      <td>2</td>\n",
       "    </tr>\n",
       "    <tr>\n",
       "      <th>188</th>\n",
       "      <td>ZAF</td>\n",
       "      <td>68.26741</td>\n",
       "      <td>68.32331</td>\n",
       "      <td>68.24925</td>\n",
       "      <td>2</td>\n",
       "    </tr>\n",
       "    <tr>\n",
       "      <th>189</th>\n",
       "      <td>ZMB</td>\n",
       "      <td>71.10859</td>\n",
       "      <td>72.09460</td>\n",
       "      <td>71.72488</td>\n",
       "      <td>2</td>\n",
       "    </tr>\n",
       "    <tr>\n",
       "      <th>190</th>\n",
       "      <td>ZWE</td>\n",
       "      <td>46.39289</td>\n",
       "      <td>60.00173</td>\n",
       "      <td>48.55427</td>\n",
       "      <td>0</td>\n",
       "    </tr>\n",
       "  </tbody>\n",
       "</table>\n",
       "<p>191 rows × 5 columns</p>\n",
       "</div>"
      ],
      "text/plain": [
       "    country    fy2017    fy2018    fy2019  Labels\n",
       "0       AFG  33.70269  68.68324  34.53602       0\n",
       "1       AGO  64.57157  65.32993  64.99177       2\n",
       "2       ALB  52.60171  52.67715  52.64734       0\n",
       "3       ARE  86.51006  89.75407  86.52729       1\n",
       "4       ARG  48.96341  56.44015  49.26822       0\n",
       "..      ...       ...       ...       ...     ...\n",
       "186     XKX  50.29844  55.28702  52.87432       0\n",
       "187     YEM  66.69420  68.68324  67.94367       2\n",
       "188     ZAF  68.26741  68.32331  68.24925       2\n",
       "189     ZMB  71.10859  72.09460  71.72488       2\n",
       "190     ZWE  46.39289  60.00173  48.55427       0\n",
       "\n",
       "[191 rows x 5 columns]"
      ]
     },
     "execution_count": 54,
     "metadata": {},
     "output_type": "execute_result"
    }
   ],
   "source": [
    "df['Labels']=label\n",
    "df"
   ]
  },
  {
   "cell_type": "markdown",
   "id": "2ffc9ec4-56c1-479e-adde-b074c770755b",
   "metadata": {
    "id": "2ffc9ec4-56c1-479e-adde-b074c770755b"
   },
   "source": [
    "### Label 0"
   ]
  },
  {
   "cell_type": "code",
   "execution_count": 55,
   "id": "7a3c6a39-ffc3-4af0-ab26-a40367dc44ab",
   "metadata": {
    "id": "7a3c6a39-ffc3-4af0-ab26-a40367dc44ab"
   },
   "outputs": [
    {
     "data": {
      "text/plain": [
       "(51.17642622222222, 49.75739133333333, 54.86742822222222)"
      ]
     },
     "execution_count": 55,
     "metadata": {},
     "output_type": "execute_result"
    }
   ],
   "source": [
    "(df.loc[df['Labels']==0].iloc[:,3].mean(),\n",
    " df.loc[df['Labels']==0].iloc[:,1].mean(),\n",
    " df.loc[df['Labels']==0].iloc[:,2].mean())"
   ]
  },
  {
   "cell_type": "markdown",
   "id": "865ffe3b-cdb7-45e0-a0f9-48dd300e2193",
   "metadata": {
    "id": "865ffe3b-cdb7-45e0-a0f9-48dd300e2193"
   },
   "source": [
    "### Label 1"
   ]
  },
  {
   "cell_type": "code",
   "execution_count": 56,
   "id": "7b33a171-d976-41db-89bd-32ae02454980",
   "metadata": {
    "id": "7b33a171-d976-41db-89bd-32ae02454980"
   },
   "outputs": [
    {
     "data": {
      "text/plain": [
       "(78.72175254237288, 77.97636796610169, 79.45865762711863)"
      ]
     },
     "execution_count": 56,
     "metadata": {},
     "output_type": "execute_result"
    }
   ],
   "source": [
    "(df.loc[df['Labels']==1].iloc[:,3].mean(),\n",
    " df.loc[df['Labels']==1].iloc[:,1].mean(),\n",
    " df.loc[df['Labels']==1].iloc[:,2].mean())"
   ]
  },
  {
   "cell_type": "markdown",
   "id": "1442170b-6283-453e-9334-793e757d8348",
   "metadata": {
    "id": "1442170b-6283-453e-9334-793e757d8348"
   },
   "source": [
    "### Label 2"
   ]
  },
  {
   "cell_type": "code",
   "execution_count": 57,
   "id": "cd948b13-ae37-4bd4-84c3-eefe5f80e6af",
   "metadata": {
    "id": "cd948b13-ae37-4bd4-84c3-eefe5f80e6af"
   },
   "outputs": [
    {
     "data": {
      "text/plain": [
       "(66.69352413793102, 65.31784367816093, 67.86333919540229)"
      ]
     },
     "execution_count": 57,
     "metadata": {},
     "output_type": "execute_result"
    }
   ],
   "source": [
    "(df.loc[df['Labels']==2].iloc[:,3].mean(),df.loc[df['Labels']==2].iloc[:,1].mean(),df.loc[df['Labels']==2].iloc[:,2].mean())"
   ]
  },
  {
   "cell_type": "markdown",
   "id": "e3b82734-6061-4cf6-a618-197fe6646ad6",
   "metadata": {
    "id": "e3b82734-6061-4cf6-a618-197fe6646ad6"
   },
   "source": [
    "From the above means of performance indices, we can see that the model clustered countries according to ease of dealing with construction permits:\n",
    "- Label 1: Countries with least performance\n",
    "- Label 0: Countries with the highest performance\n",
    "- Label 2: Countries with reasonably good performance"
   ]
  },
  {
   "cell_type": "code",
   "execution_count": 66,
   "id": "f160c343",
   "metadata": {
    "id": "f160c343"
   },
   "outputs": [
    {
     "data": {
      "text/html": [
       "<div>\n",
       "<style scoped>\n",
       "    .dataframe tbody tr th:only-of-type {\n",
       "        vertical-align: middle;\n",
       "    }\n",
       "\n",
       "    .dataframe tbody tr th {\n",
       "        vertical-align: top;\n",
       "    }\n",
       "\n",
       "    .dataframe thead th {\n",
       "        text-align: right;\n",
       "    }\n",
       "</style>\n",
       "<table border=\"1\" class=\"dataframe\">\n",
       "  <thead>\n",
       "    <tr style=\"text-align: right;\">\n",
       "      <th></th>\n",
       "      <th>country</th>\n",
       "      <th>fy2017</th>\n",
       "      <th>fy2018</th>\n",
       "      <th>fy2019</th>\n",
       "      <th>Labels</th>\n",
       "    </tr>\n",
       "  </thead>\n",
       "  <tbody>\n",
       "    <tr>\n",
       "      <th>0</th>\n",
       "      <td>AFG</td>\n",
       "      <td>33.70269</td>\n",
       "      <td>68.68324</td>\n",
       "      <td>34.53602</td>\n",
       "      <td>0</td>\n",
       "    </tr>\n",
       "    <tr>\n",
       "      <th>1</th>\n",
       "      <td>AGO</td>\n",
       "      <td>64.57157</td>\n",
       "      <td>65.32993</td>\n",
       "      <td>64.99177</td>\n",
       "      <td>2</td>\n",
       "    </tr>\n",
       "    <tr>\n",
       "      <th>2</th>\n",
       "      <td>ALB</td>\n",
       "      <td>52.60171</td>\n",
       "      <td>52.67715</td>\n",
       "      <td>52.64734</td>\n",
       "      <td>0</td>\n",
       "    </tr>\n",
       "    <tr>\n",
       "      <th>3</th>\n",
       "      <td>ARE</td>\n",
       "      <td>86.51006</td>\n",
       "      <td>89.75407</td>\n",
       "      <td>86.52729</td>\n",
       "      <td>1</td>\n",
       "    </tr>\n",
       "    <tr>\n",
       "      <th>4</th>\n",
       "      <td>ARG</td>\n",
       "      <td>48.96341</td>\n",
       "      <td>56.44015</td>\n",
       "      <td>49.26822</td>\n",
       "      <td>0</td>\n",
       "    </tr>\n",
       "  </tbody>\n",
       "</table>\n",
       "</div>"
      ],
      "text/plain": [
       "  country    fy2017    fy2018    fy2019  Labels\n",
       "0     AFG  33.70269  68.68324  34.53602       0\n",
       "1     AGO  64.57157  65.32993  64.99177       2\n",
       "2     ALB  52.60171  52.67715  52.64734       0\n",
       "3     ARE  86.51006  89.75407  86.52729       1\n",
       "4     ARG  48.96341  56.44015  49.26822       0"
      ]
     },
     "execution_count": 66,
     "metadata": {},
     "output_type": "execute_result"
    }
   ],
   "source": [
    "df0=pd.read_csv(\"main_data.csv\") # original with country codes\n",
    "df['country']=df0['country']\n",
    "df.head()"
   ]
  },
  {
   "cell_type": "markdown",
   "id": "5e1ccb12",
   "metadata": {
    "id": "5e1ccb12"
   },
   "source": [
    "#### Grouping Countries based on Performance Measures"
   ]
  },
  {
   "cell_type": "code",
   "execution_count": 67,
   "id": "df1db602",
   "metadata": {
    "id": "df1db602"
   },
   "outputs": [
    {
     "data": {
      "text/plain": [
       "array([0, 2, 0, 1, 0, 2, 2, 1, 1, 2, 0, 1, 2, 2, 2, 1, 1, 2, 0, 1, 2, 2,\n",
       "       0, 0, 1, 2, 1, 0, 1, 2, 1, 2, 0, 0, 0, 2, 2, 2, 1, 2, 2, 0, 1, 2,\n",
       "       2, 1, 2, 2, 2, 2, 2, 2, 1, 0, 1, 2, 1, 2, 0, 1, 1, 2, 2, 0, 0, 0,\n",
       "       2, 2, 2, 0, 1, 0, 0, 0, 2, 2, 2, 1, 2, 2, 2, 1, 2, 2, 2, 1, 1, 2,\n",
       "       2, 0, 0, 1, 1, 2, 2, 0, 2, 2, 1, 1, 2, 0, 1, 1, 1, 1, 0, 0, 1, 2,\n",
       "       2, 1, 2, 1, 2, 1, 1, 1, 2, 1, 2, 1, 2, 0, 2, 0, 2, 1, 2, 1, 1, 0,\n",
       "       2, 2, 2, 2, 2, 1, 2, 1, 2, 0, 1, 0, 1, 2, 1, 2, 2, 1, 0, 0, 0, 2,\n",
       "       2, 1, 0, 2, 2, 2, 2, 1, 2, 2, 2, 0, 0, 1, 2, 0, 1, 2, 1, 2, 1, 0,\n",
       "       2, 1, 0, 1, 2, 1, 0, 1, 0, 2, 0, 2, 2, 2, 0])"
      ]
     },
     "execution_count": 67,
     "metadata": {},
     "output_type": "execute_result"
    }
   ],
   "source": [
    "label"
   ]
  },
  {
   "cell_type": "code",
   "execution_count": 68,
   "id": "77e4dc96",
   "metadata": {
    "id": "77e4dc96"
   },
   "outputs": [],
   "source": [
    "least=[]\n",
    "moderate=[]\n",
    "highest=[]\n",
    "\n",
    "for i in range(len(df)):\n",
    "    if label[i]==0:\n",
    "        highest.append(df['country'][i])\n",
    "    elif label[i]==1:\n",
    "        least.append(df['country'][i])\n",
    "    else:\n",
    "        moderate.append(df['country'][i])"
   ]
  },
  {
   "cell_type": "code",
   "execution_count": 61,
   "id": "b1dbcbe2",
   "metadata": {
    "id": "b1dbcbe2"
   },
   "outputs": [
    {
     "name": "stdout",
     "output_type": "stream",
     "text": [
      "Countries with least regulatory performance: \n",
      " ['ARE', 'AUS', 'AUT', 'BEL', 'BGR', 'BHR', 'BLR', 'BRN', 'BWA', 'CAN', 'CHL', 'CPV', 'DEU', 'DNK', 'EST', 'FIN', 'FRA', 'GBR', 'GEO', 'HKG', 'IRL', 'ISR', 'JPN', 'KAZ', 'KNA', 'KOR', 'LCA', 'LIE', 'LTU', 'LUX', 'LVA', 'MAR', 'MDV', 'MKD', 'MLT', 'MNE', 'MNG', 'MOZ', 'MUS', 'MYS', 'NOR', 'NZL', 'OMN', 'POL', 'PRT', 'QAT', 'RUS', 'SAU', 'SGP', 'SRB', 'SWE', 'THA', 'TON', 'TUN', 'TWN', 'UKR', 'USA', 'VCT', 'VNM']\n"
     ]
    }
   ],
   "source": [
    "print(\"Countries with least regulatory performance: \\n\",least)"
   ]
  },
  {
   "cell_type": "code",
   "execution_count": 62,
   "id": "67a7f42e",
   "metadata": {
    "id": "67a7f42e"
   },
   "outputs": [
    {
     "name": "stdout",
     "output_type": "stream",
     "text": [
      "Countries with reasonable regulatory performance: \n",
      " ['AGO', 'ARM', 'ATG', 'AZE', 'BEN', 'BFA', 'BGD', 'BHS', 'BLZ', 'BOL', 'BTN', 'CHE', 'CHN', 'COG', 'COL', 'COM', 'CRI', 'CYP', 'DJI', 'DMA', 'DOM', 'DZA', 'ECU', 'EGY', 'ERI', 'ESP', 'FJI', 'FSM', 'GHA', 'GIN', 'GRC', 'GRD', 'GTM', 'HUN', 'IDN', 'IND', 'IRN', 'IRQ', 'ISL', 'ITA', 'JAM', 'JOR', 'KEN', 'KGZ', 'KWT', 'LAO', 'LBR', 'LBY', 'LKA', 'MEX', 'MHL', 'MLI', 'MMR', 'MRT', 'MWI', 'NAM', 'NGA', 'NLD', 'NPL', 'PAN', 'PER', 'PHL', 'PLW', 'PNG', 'PRI', 'PRY', 'RWA', 'SDN', 'SEN', 'SMR', 'SOM', 'STP', 'SUR', 'SVK', 'SVN', 'SWZ', 'SYC', 'SYR', 'TJK', 'TTO', 'TUR', 'UGA', 'UZB', 'WSM', 'YEM', 'ZAF', 'ZMB']\n"
     ]
    }
   ],
   "source": [
    "print(\"Countries with reasonable regulatory performance: \\n\",moderate)"
   ]
  },
  {
   "cell_type": "code",
   "execution_count": 63,
   "id": "201fda43",
   "metadata": {
    "id": "201fda43"
   },
   "outputs": [
    {
     "name": "stdout",
     "output_type": "stream",
     "text": [
      "Countries with highest regulatory performance: \n",
      " ['AFG', 'ALB', 'ARG', 'BDI', 'BIH', 'BRA', 'BRB', 'CAF', 'CIV', 'CMR', 'COD', 'CZE', 'ETH', 'GAB', 'GMB', 'GNB', 'GNQ', 'GUY', 'HND', 'HRV', 'HTI', 'KHM', 'KIR', 'LBN', 'LSO', 'MDA', 'MDG', 'NER', 'NIC', 'PAK', 'PSE', 'ROU', 'SLB', 'SLE', 'SLV', 'SSD', 'TCD', 'TGO', 'TLS', 'TZA', 'URY', 'VEN', 'VUT', 'XKX', 'ZWE']\n"
     ]
    }
   ],
   "source": [
    "print(\"Countries with highest regulatory performance: \\n\",highest)"
   ]
  },
  {
   "cell_type": "markdown",
   "id": "9c9658e3",
   "metadata": {
    "id": "9c9658e3"
   },
   "source": [
    "### Evaluation"
   ]
  },
  {
   "cell_type": "code",
   "execution_count": 69,
   "id": "29f1eee8",
   "metadata": {
    "id": "29f1eee8"
   },
   "outputs": [
    {
     "data": {
      "text/plain": [
       "0.48995430249194794"
      ]
     },
     "execution_count": 69,
     "metadata": {},
     "output_type": "execute_result"
    }
   ],
   "source": [
    "from sklearn.metrics import silhouette_score\n",
    "score=silhouette_score(X,label)\n",
    "score"
   ]
  },
  {
   "cell_type": "markdown",
   "id": "76ec7c93",
   "metadata": {
    "id": "76ec7c93"
   },
   "source": [
    "Try modeling with different k values to compare the clustering efficiency."
   ]
  },
  {
   "cell_type": "markdown",
   "id": "65d9623b",
   "metadata": {
    "id": "65d9623b"
   },
   "source": [
    "The range of Silhouette score is [-1, 1]. Its analysis is as follows −\n",
    "\n",
    "+1 Score − Near +1 Silhouette score indicates that the sample is far away from its neighboring cluster.\n",
    "\n",
    "0 Score − 0 Silhouette score indicates that the sample is on or very close to the decision boundary separating two neighboring clusters.\n",
    "\n",
    "-1 Score − 1 Silhouette score indicates that the samples have been assigned to the wrong clusters."
   ]
  },
  {
   "cell_type": "markdown",
   "id": "f1ad97ce",
   "metadata": {
    "id": "f1ad97ce"
   },
   "source": [
    "The calculation of Silhouette score can be done by using the following formula\n",
    "\n",
    "$$silhouette score\\:=\\:(p-q)/max(p,q)$$\n",
    "\n",
    "Here, p = mean distance to the points in the nearest cluster\n",
    "\n",
    "And, q = mean intra-cluster distance to all the points."
   ]
  },
  {
   "cell_type": "markdown",
   "id": "19c6213c",
   "metadata": {
    "id": "19c6213c"
   },
   "source": [
    "### Applications\n",
    "The scikit-learn book describes the various applications of clustering as follows:\n",
    "\n",
    "* __For customer segmentation:__ You can cluster your customers based on their purchases,their activity on your website, and so on. This is useful to understand who your customers are and what they need, so you can adapt your products and marketing campaigns to each segment. For example, this can be useful in recommender systems to suggest content that other users in the same cluster enjoyed.Subdivision of customers into groups/segments such that each customer segment consists of customers with similar market characteristics — pricing , loyalty, spending behaviors etc. Some of the segmentation variables could be e.g., number of items bought on sale, avg transaction value, total number of transactions. Customer segmentation allows businesses to customize market programs that will be suitable for each of its customer segments\n",
    "\n",
    "* __For data analysis:__ When analyzing a new dataset, it is often useful to first discover clusters of similar instances, as it is often easier to analyze clusters separately.\n",
    "\n",
    "* __Inventory Categorization based on sales or other manufacturing metrics.\n",
    "\n",
    "* __For anomaly detection (also called outlier detection):__ Any instance that has a low affinity to all the clusters is likely to be an anomaly. For example, if you have clustered the users of your website based on their behavior, you can detect users with unusual behavior, such as an unusual number of requests per second, and so on. Anomaly detection is particularly useful in detecting defects in manufacturing, or for fraud detection.\n",
    "\n",
    "\n",
    "* __For search engines:__ For example, some search engines let you search for images that are similar to a reference image. To build such a system, you would first apply a clustering algorithm to all the images in your database: similar images would end up in the same cluster. Then when a user provides a reference image, all you need to do is to find this image’s cluster using the trained clustering model, and you can then simply return all the images from this cluster.\n",
    "\n",
    "* __To segment an image:__ By clustering pixels according to their color, then replacing each pixel’s color with the mean color of its cluster, it is possible to reduce the number of different colors in the image considerably. This technique is used in many object detection and tracking systems, as it makes it easier to detect the contour of each object.\n"
   ]
  },
  {
   "cell_type": "markdown",
   "id": "7c205e2a",
   "metadata": {
    "id": "7c205e2a"
   },
   "source": [
    "##### Approaches for Clustering:\n",
    "The clustering approaches can be broadly divided into two categories: _Agglomerative_ and _Divisive_.\n",
    "\n",
    "**Agglomerative:** This approach first considers all the points as individual clusters and then finds out the similarity between two points, puts them into a cluster. Then it goes on finding similar points and clusters until there is only one cluster left i.e., all points belong to a big cluster. This is also called the bottom-up approach.\n",
    "\n",
    "**Divisive:** It is opposite of the agglomerative approach. It first considers all the points to be part of one big cluster and in the subsequent steps tries to find out the points/ clusters which are least similar to each other and then breaks the bigger cluster into smaller ones. This continues until there are as many clusters as there are datapoints. This is also called the top-down approach."
   ]
  },
  {
   "cell_type": "markdown",
   "id": "1a1d9cff",
   "metadata": {
    "id": "1a1d9cff"
   },
   "source": [
    "### Assumption of K Means:\n",
    "- Clusters are spatially grouped or spherical\n",
    "- All features are scaled\n",
    "- Clusters are of similar size"
   ]
  },
  {
   "cell_type": "markdown",
   "id": "8ea8b6a2",
   "metadata": {
    "id": "8ea8b6a2"
   },
   "source": [
    "### Pros:\n",
    "- Works well even when some assumptions are broken\n",
    "- Simple and easy to implement\n",
    "- Easy to interpret\n",
    "\n",
    "### Cons:\n",
    "\n",
    "- Sensitive to outliers\n",
    "- k value has to be known before"
   ]
  },
  {
   "cell_type": "markdown",
   "id": "c032cf2f",
   "metadata": {
    "id": "c032cf2f"
   },
   "source": [
    "### Goal of Clustering\n",
    "\n",
    "- Distance between centroid and its point should be minimum\n",
    "- Intra-cluster distance should be less\n",
    "- Distance between intercluster should be high"
   ]
  },
  {
   "cell_type": "code",
   "execution_count": null,
   "id": "cff64136",
   "metadata": {
    "id": "cff64136"
   },
   "outputs": [],
   "source": []
  }
 ],
 "metadata": {
  "colab": {
   "provenance": []
  },
  "kernelspec": {
   "display_name": "Python 3 (ipykernel)",
   "language": "python",
   "name": "python3"
  },
  "language_info": {
   "codemirror_mode": {
    "name": "ipython",
    "version": 3
   },
   "file_extension": ".py",
   "mimetype": "text/x-python",
   "name": "python",
   "nbconvert_exporter": "python",
   "pygments_lexer": "ipython3",
   "version": "3.10.9"
  }
 },
 "nbformat": 4,
 "nbformat_minor": 5
}
